{
 "cells": [
  {
   "cell_type": "code",
   "execution_count": 1,
   "id": "2bdc05a1-b61c-4a0e-a098-129fbce74520",
   "metadata": {},
   "outputs": [],
   "source": [
    "import numpy as np\n",
    "import pandas as pd\n",
    "import matplotlib.pyplot as plt\n",
    "import seaborn as sns\n",
    "from sklearn.preprocessing import StandardScaler\n",
    "from sklearn.preprocessing import LabelEncoder"
   ]
  },
  {
   "cell_type": "code",
   "execution_count": 2,
   "id": "edf22ed6-0946-401c-899a-6cf80e6019af",
   "metadata": {},
   "outputs": [],
   "source": [
    "from tensorflow.keras.utils import plot_model\n",
    "import visualkeras\n",
    "from keras.layers import Dense, Conv2D, MaxPooling2D, Flatten, Activation  \n",
    "from keras_visualizer import visualizer \n",
    "import pydotplus\n",
    "from keras.utils import plot_model\n",
    "import os\n",
    "os.environ[\"PATH\"] += os.pathsep + 'C:/Program Files (x86)/Graphviz2.38/bin/'\n",
    "import graphviz\n",
    "from ann_visualizer.visualize import ann_viz"
   ]
  },
  {
   "cell_type": "code",
   "execution_count": null,
   "id": "a6c98d04-3e7b-4bcc-b5b6-7277910e249f",
   "metadata": {},
   "outputs": [],
   "source": []
  },
  {
   "cell_type": "code",
   "execution_count": 3,
   "id": "0bb8e0cd-9a66-423a-b367-2919175f1d18",
   "metadata": {},
   "outputs": [],
   "source": [
    "df = pd.read_csv('train_data_evaluation_part_2.csv')\n",
    "test = pd.read_csv('test_data_evaluation_part2.csv')"
   ]
  },
  {
   "cell_type": "code",
   "execution_count": 4,
   "id": "ccbc2063-4dd7-446e-8551-6dba13a3c32b",
   "metadata": {},
   "outputs": [
    {
     "data": {
      "text/html": [
       "<div>\n",
       "<style scoped>\n",
       "    .dataframe tbody tr th:only-of-type {\n",
       "        vertical-align: middle;\n",
       "    }\n",
       "\n",
       "    .dataframe tbody tr th {\n",
       "        vertical-align: top;\n",
       "    }\n",
       "\n",
       "    .dataframe thead th {\n",
       "        text-align: right;\n",
       "    }\n",
       "</style>\n",
       "<table border=\"1\" class=\"dataframe\">\n",
       "  <thead>\n",
       "    <tr style=\"text-align: right;\">\n",
       "      <th></th>\n",
       "      <th>Unnamed: 0</th>\n",
       "      <th>ID</th>\n",
       "      <th>Nationality</th>\n",
       "      <th>Age</th>\n",
       "      <th>DaysSinceCreation</th>\n",
       "      <th>AverageLeadTime</th>\n",
       "      <th>LodgingRevenue</th>\n",
       "      <th>OtherRevenue</th>\n",
       "      <th>BookingsCanceled</th>\n",
       "      <th>BookingsNoShowed</th>\n",
       "      <th>...</th>\n",
       "      <th>SRMediumFloor</th>\n",
       "      <th>SRBathtub</th>\n",
       "      <th>SRShower</th>\n",
       "      <th>SRCrib</th>\n",
       "      <th>SRKingSizeBed</th>\n",
       "      <th>SRTwinBed</th>\n",
       "      <th>SRNearElevator</th>\n",
       "      <th>SRAwayFromElevator</th>\n",
       "      <th>SRNoAlcoholInMiniBar</th>\n",
       "      <th>SRQuietRoom</th>\n",
       "    </tr>\n",
       "  </thead>\n",
       "  <tbody>\n",
       "    <tr>\n",
       "      <th>0</th>\n",
       "      <td>0</td>\n",
       "      <td>1</td>\n",
       "      <td>PRT</td>\n",
       "      <td>51.0</td>\n",
       "      <td>150</td>\n",
       "      <td>45</td>\n",
       "      <td>371.0</td>\n",
       "      <td>105.3</td>\n",
       "      <td>1</td>\n",
       "      <td>0</td>\n",
       "      <td>...</td>\n",
       "      <td>0</td>\n",
       "      <td>0</td>\n",
       "      <td>0</td>\n",
       "      <td>0</td>\n",
       "      <td>0</td>\n",
       "      <td>0</td>\n",
       "      <td>0</td>\n",
       "      <td>0</td>\n",
       "      <td>0</td>\n",
       "      <td>0</td>\n",
       "    </tr>\n",
       "    <tr>\n",
       "      <th>1</th>\n",
       "      <td>1</td>\n",
       "      <td>2</td>\n",
       "      <td>PRT</td>\n",
       "      <td>NaN</td>\n",
       "      <td>1095</td>\n",
       "      <td>61</td>\n",
       "      <td>280.0</td>\n",
       "      <td>53.0</td>\n",
       "      <td>0</td>\n",
       "      <td>0</td>\n",
       "      <td>...</td>\n",
       "      <td>0</td>\n",
       "      <td>0</td>\n",
       "      <td>0</td>\n",
       "      <td>0</td>\n",
       "      <td>0</td>\n",
       "      <td>0</td>\n",
       "      <td>0</td>\n",
       "      <td>0</td>\n",
       "      <td>0</td>\n",
       "      <td>0</td>\n",
       "    </tr>\n",
       "  </tbody>\n",
       "</table>\n",
       "<p>2 rows × 30 columns</p>\n",
       "</div>"
      ],
      "text/plain": [
       "   Unnamed: 0  ID Nationality   Age  DaysSinceCreation  AverageLeadTime  \\\n",
       "0           0   1         PRT  51.0                150               45   \n",
       "1           1   2         PRT   NaN               1095               61   \n",
       "\n",
       "   LodgingRevenue  OtherRevenue  BookingsCanceled  BookingsNoShowed  ...  \\\n",
       "0           371.0         105.3                 1                 0  ...   \n",
       "1           280.0          53.0                 0                 0  ...   \n",
       "\n",
       "   SRMediumFloor  SRBathtub  SRShower  SRCrib  SRKingSizeBed SRTwinBed  \\\n",
       "0              0          0         0       0              0         0   \n",
       "1              0          0         0       0              0         0   \n",
       "\n",
       "  SRNearElevator  SRAwayFromElevator  SRNoAlcoholInMiniBar  SRQuietRoom  \n",
       "0              0                   0                     0            0  \n",
       "1              0                   0                     0            0  \n",
       "\n",
       "[2 rows x 30 columns]"
      ]
     },
     "execution_count": 4,
     "metadata": {},
     "output_type": "execute_result"
    }
   ],
   "source": [
    "df[:2]"
   ]
  },
  {
   "cell_type": "code",
   "execution_count": 5,
   "id": "262bdcbf-7e7c-47cd-98d8-4bf78378ccf2",
   "metadata": {},
   "outputs": [
    {
     "data": {
      "text/html": [
       "<div>\n",
       "<style scoped>\n",
       "    .dataframe tbody tr th:only-of-type {\n",
       "        vertical-align: middle;\n",
       "    }\n",
       "\n",
       "    .dataframe tbody tr th {\n",
       "        vertical-align: top;\n",
       "    }\n",
       "\n",
       "    .dataframe thead th {\n",
       "        text-align: right;\n",
       "    }\n",
       "</style>\n",
       "<table border=\"1\" class=\"dataframe\">\n",
       "  <thead>\n",
       "    <tr style=\"text-align: right;\">\n",
       "      <th></th>\n",
       "      <th>Unnamed: 0</th>\n",
       "      <th>ID</th>\n",
       "      <th>Nationality</th>\n",
       "      <th>Age</th>\n",
       "      <th>DaysSinceCreation</th>\n",
       "      <th>AverageLeadTime</th>\n",
       "      <th>LodgingRevenue</th>\n",
       "      <th>OtherRevenue</th>\n",
       "      <th>BookingsCanceled</th>\n",
       "      <th>BookingsNoShowed</th>\n",
       "      <th>...</th>\n",
       "      <th>SRMediumFloor</th>\n",
       "      <th>SRBathtub</th>\n",
       "      <th>SRShower</th>\n",
       "      <th>SRCrib</th>\n",
       "      <th>SRKingSizeBed</th>\n",
       "      <th>SRTwinBed</th>\n",
       "      <th>SRNearElevator</th>\n",
       "      <th>SRAwayFromElevator</th>\n",
       "      <th>SRNoAlcoholInMiniBar</th>\n",
       "      <th>SRQuietRoom</th>\n",
       "    </tr>\n",
       "  </thead>\n",
       "  <tbody>\n",
       "    <tr>\n",
       "      <th>0</th>\n",
       "      <td>82590</td>\n",
       "      <td>82591</td>\n",
       "      <td>SGP</td>\n",
       "      <td>47.0</td>\n",
       "      <td>11</td>\n",
       "      <td>0</td>\n",
       "      <td>0.00</td>\n",
       "      <td>0.0</td>\n",
       "      <td>0</td>\n",
       "      <td>0</td>\n",
       "      <td>...</td>\n",
       "      <td>0</td>\n",
       "      <td>0</td>\n",
       "      <td>0</td>\n",
       "      <td>0</td>\n",
       "      <td>0</td>\n",
       "      <td>0</td>\n",
       "      <td>0</td>\n",
       "      <td>0</td>\n",
       "      <td>0</td>\n",
       "      <td>0</td>\n",
       "    </tr>\n",
       "    <tr>\n",
       "      <th>1</th>\n",
       "      <td>82591</td>\n",
       "      <td>82592</td>\n",
       "      <td>SGP</td>\n",
       "      <td>16.0</td>\n",
       "      <td>11</td>\n",
       "      <td>130</td>\n",
       "      <td>483.48</td>\n",
       "      <td>155.1</td>\n",
       "      <td>0</td>\n",
       "      <td>0</td>\n",
       "      <td>...</td>\n",
       "      <td>0</td>\n",
       "      <td>0</td>\n",
       "      <td>0</td>\n",
       "      <td>0</td>\n",
       "      <td>0</td>\n",
       "      <td>0</td>\n",
       "      <td>0</td>\n",
       "      <td>0</td>\n",
       "      <td>0</td>\n",
       "      <td>0</td>\n",
       "    </tr>\n",
       "  </tbody>\n",
       "</table>\n",
       "<p>2 rows × 30 columns</p>\n",
       "</div>"
      ],
      "text/plain": [
       "   Unnamed: 0     ID Nationality   Age  DaysSinceCreation  AverageLeadTime  \\\n",
       "0       82590  82591         SGP  47.0                 11                0   \n",
       "1       82591  82592         SGP  16.0                 11              130   \n",
       "\n",
       "   LodgingRevenue  OtherRevenue  BookingsCanceled  BookingsNoShowed  ...  \\\n",
       "0            0.00           0.0                 0                 0  ...   \n",
       "1          483.48         155.1                 0                 0  ...   \n",
       "\n",
       "   SRMediumFloor  SRBathtub  SRShower  SRCrib  SRKingSizeBed SRTwinBed  \\\n",
       "0              0          0         0       0              0         0   \n",
       "1              0          0         0       0              0         0   \n",
       "\n",
       "  SRNearElevator  SRAwayFromElevator  SRNoAlcoholInMiniBar  SRQuietRoom  \n",
       "0              0                   0                     0            0  \n",
       "1              0                   0                     0            0  \n",
       "\n",
       "[2 rows x 30 columns]"
      ]
     },
     "execution_count": 5,
     "metadata": {},
     "output_type": "execute_result"
    }
   ],
   "source": [
    "test[:2]"
   ]
  },
  {
   "cell_type": "code",
   "execution_count": 6,
   "id": "c5f1b840-8e2e-49ef-951c-dcd506b64c94",
   "metadata": {},
   "outputs": [],
   "source": [
    "df.drop(columns='Unnamed: 0',inplace=True)\n",
    "test.drop(columns='Unnamed: 0',inplace=True)"
   ]
  },
  {
   "cell_type": "code",
   "execution_count": 7,
   "id": "cfc096cd-da58-4238-8c82-1b0330658164",
   "metadata": {},
   "outputs": [
    {
     "name": "stdout",
     "output_type": "stream",
     "text": [
      "(82580, 29)\n",
      "(1000, 29)\n"
     ]
    }
   ],
   "source": [
    "print(df.shape)\n",
    "print(test.shape)"
   ]
  },
  {
   "cell_type": "code",
   "execution_count": 8,
   "id": "5e3cad40-7f80-45ba-80c3-bd70ab063186",
   "metadata": {},
   "outputs": [
    {
     "name": "stdout",
     "output_type": "stream",
     "text": [
      "<class 'pandas.core.frame.DataFrame'>\n",
      "RangeIndex: 82580 entries, 0 to 82579\n",
      "Data columns (total 29 columns):\n",
      " #   Column                Non-Null Count  Dtype  \n",
      "---  ------                --------------  -----  \n",
      " 0   ID                    82580 non-null  int64  \n",
      " 1   Nationality           82580 non-null  object \n",
      " 2   Age                   78834 non-null  float64\n",
      " 3   DaysSinceCreation     82580 non-null  int64  \n",
      " 4   AverageLeadTime       82580 non-null  int64  \n",
      " 5   LodgingRevenue        82580 non-null  float64\n",
      " 6   OtherRevenue          82580 non-null  float64\n",
      " 7   BookingsCanceled      82580 non-null  int64  \n",
      " 8   BookingsNoShowed      82580 non-null  int64  \n",
      " 9   BookingsCheckedIn     82580 non-null  int64  \n",
      " 10  PersonsNights         82580 non-null  int64  \n",
      " 11  RoomNights            82580 non-null  int64  \n",
      " 12  DaysSinceLastStay     82580 non-null  int64  \n",
      " 13  DaysSinceFirstStay    82580 non-null  int64  \n",
      " 14  DistributionChannel   82580 non-null  object \n",
      " 15  MarketSegment         82580 non-null  object \n",
      " 16  SRHighFloor           82580 non-null  int64  \n",
      " 17  SRLowFloor            82580 non-null  int64  \n",
      " 18  SRAccessibleRoom      82580 non-null  int64  \n",
      " 19  SRMediumFloor         82580 non-null  int64  \n",
      " 20  SRBathtub             82580 non-null  int64  \n",
      " 21  SRShower              82580 non-null  int64  \n",
      " 22  SRCrib                82580 non-null  int64  \n",
      " 23  SRKingSizeBed         82580 non-null  int64  \n",
      " 24  SRTwinBed             82580 non-null  int64  \n",
      " 25  SRNearElevator        82580 non-null  int64  \n",
      " 26  SRAwayFromElevator    82580 non-null  int64  \n",
      " 27  SRNoAlcoholInMiniBar  82580 non-null  int64  \n",
      " 28  SRQuietRoom           82580 non-null  int64  \n",
      "dtypes: float64(3), int64(23), object(3)\n",
      "memory usage: 18.3+ MB\n"
     ]
    }
   ],
   "source": [
    "df.info()"
   ]
  },
  {
   "cell_type": "code",
   "execution_count": 9,
   "id": "420d6762-18f0-4fe6-bc9c-ee57519467ff",
   "metadata": {},
   "outputs": [
    {
     "data": {
      "text/html": [
       "<div>\n",
       "<style scoped>\n",
       "    .dataframe tbody tr th:only-of-type {\n",
       "        vertical-align: middle;\n",
       "    }\n",
       "\n",
       "    .dataframe tbody tr th {\n",
       "        vertical-align: top;\n",
       "    }\n",
       "\n",
       "    .dataframe thead th {\n",
       "        text-align: right;\n",
       "    }\n",
       "</style>\n",
       "<table border=\"1\" class=\"dataframe\">\n",
       "  <thead>\n",
       "    <tr style=\"text-align: right;\">\n",
       "      <th></th>\n",
       "      <th>ID</th>\n",
       "      <th>Age</th>\n",
       "      <th>DaysSinceCreation</th>\n",
       "      <th>AverageLeadTime</th>\n",
       "      <th>LodgingRevenue</th>\n",
       "      <th>OtherRevenue</th>\n",
       "      <th>BookingsCanceled</th>\n",
       "      <th>BookingsNoShowed</th>\n",
       "      <th>BookingsCheckedIn</th>\n",
       "      <th>PersonsNights</th>\n",
       "      <th>...</th>\n",
       "      <th>SRMediumFloor</th>\n",
       "      <th>SRBathtub</th>\n",
       "      <th>SRShower</th>\n",
       "      <th>SRCrib</th>\n",
       "      <th>SRKingSizeBed</th>\n",
       "      <th>SRTwinBed</th>\n",
       "      <th>SRNearElevator</th>\n",
       "      <th>SRAwayFromElevator</th>\n",
       "      <th>SRNoAlcoholInMiniBar</th>\n",
       "      <th>SRQuietRoom</th>\n",
       "    </tr>\n",
       "  </thead>\n",
       "  <tbody>\n",
       "    <tr>\n",
       "      <th>count</th>\n",
       "      <td>82580.000000</td>\n",
       "      <td>78834.000000</td>\n",
       "      <td>82580.000000</td>\n",
       "      <td>82580.000000</td>\n",
       "      <td>82580.000000</td>\n",
       "      <td>82580.000000</td>\n",
       "      <td>82580.000000</td>\n",
       "      <td>82580.000000</td>\n",
       "      <td>82580.000000</td>\n",
       "      <td>82580.000000</td>\n",
       "      <td>...</td>\n",
       "      <td>82580.000000</td>\n",
       "      <td>82580.000000</td>\n",
       "      <td>82580.000000</td>\n",
       "      <td>82580.000000</td>\n",
       "      <td>82580.000000</td>\n",
       "      <td>82580.000000</td>\n",
       "      <td>82580.000000</td>\n",
       "      <td>82580.000000</td>\n",
       "      <td>82580.000000</td>\n",
       "      <td>82580.000000</td>\n",
       "    </tr>\n",
       "    <tr>\n",
       "      <th>mean</th>\n",
       "      <td>41290.500000</td>\n",
       "      <td>45.468554</td>\n",
       "      <td>459.138157</td>\n",
       "      <td>66.557205</td>\n",
       "      <td>300.457373</td>\n",
       "      <td>67.890023</td>\n",
       "      <td>0.002047</td>\n",
       "      <td>0.000642</td>\n",
       "      <td>0.798402</td>\n",
       "      <td>4.667958</td>\n",
       "      <td>...</td>\n",
       "      <td>0.000884</td>\n",
       "      <td>0.002809</td>\n",
       "      <td>0.001732</td>\n",
       "      <td>0.012812</td>\n",
       "      <td>0.351671</td>\n",
       "      <td>0.142771</td>\n",
       "      <td>0.000303</td>\n",
       "      <td>0.003548</td>\n",
       "      <td>0.000121</td>\n",
       "      <td>0.088060</td>\n",
       "    </tr>\n",
       "    <tr>\n",
       "      <th>std</th>\n",
       "      <td>23838.936952</td>\n",
       "      <td>16.526276</td>\n",
       "      <td>311.309295</td>\n",
       "      <td>87.928995</td>\n",
       "      <td>373.337007</td>\n",
       "      <td>114.496223</td>\n",
       "      <td>0.067177</td>\n",
       "      <td>0.029725</td>\n",
       "      <td>0.696880</td>\n",
       "      <td>4.562507</td>\n",
       "      <td>...</td>\n",
       "      <td>0.029719</td>\n",
       "      <td>0.052930</td>\n",
       "      <td>0.041577</td>\n",
       "      <td>0.112463</td>\n",
       "      <td>0.477495</td>\n",
       "      <td>0.349841</td>\n",
       "      <td>0.017397</td>\n",
       "      <td>0.059460</td>\n",
       "      <td>0.011004</td>\n",
       "      <td>0.283384</td>\n",
       "    </tr>\n",
       "    <tr>\n",
       "      <th>min</th>\n",
       "      <td>1.000000</td>\n",
       "      <td>-11.000000</td>\n",
       "      <td>12.000000</td>\n",
       "      <td>-1.000000</td>\n",
       "      <td>0.000000</td>\n",
       "      <td>0.000000</td>\n",
       "      <td>0.000000</td>\n",
       "      <td>0.000000</td>\n",
       "      <td>0.000000</td>\n",
       "      <td>0.000000</td>\n",
       "      <td>...</td>\n",
       "      <td>0.000000</td>\n",
       "      <td>0.000000</td>\n",
       "      <td>0.000000</td>\n",
       "      <td>0.000000</td>\n",
       "      <td>0.000000</td>\n",
       "      <td>0.000000</td>\n",
       "      <td>0.000000</td>\n",
       "      <td>0.000000</td>\n",
       "      <td>0.000000</td>\n",
       "      <td>0.000000</td>\n",
       "    </tr>\n",
       "    <tr>\n",
       "      <th>25%</th>\n",
       "      <td>20645.750000</td>\n",
       "      <td>34.000000</td>\n",
       "      <td>183.000000</td>\n",
       "      <td>0.000000</td>\n",
       "      <td>66.400000</td>\n",
       "      <td>2.000000</td>\n",
       "      <td>0.000000</td>\n",
       "      <td>0.000000</td>\n",
       "      <td>1.000000</td>\n",
       "      <td>1.000000</td>\n",
       "      <td>...</td>\n",
       "      <td>0.000000</td>\n",
       "      <td>0.000000</td>\n",
       "      <td>0.000000</td>\n",
       "      <td>0.000000</td>\n",
       "      <td>0.000000</td>\n",
       "      <td>0.000000</td>\n",
       "      <td>0.000000</td>\n",
       "      <td>0.000000</td>\n",
       "      <td>0.000000</td>\n",
       "      <td>0.000000</td>\n",
       "    </tr>\n",
       "    <tr>\n",
       "      <th>50%</th>\n",
       "      <td>41290.500000</td>\n",
       "      <td>46.000000</td>\n",
       "      <td>406.000000</td>\n",
       "      <td>30.000000</td>\n",
       "      <td>234.000000</td>\n",
       "      <td>39.000000</td>\n",
       "      <td>0.000000</td>\n",
       "      <td>0.000000</td>\n",
       "      <td>1.000000</td>\n",
       "      <td>4.000000</td>\n",
       "      <td>...</td>\n",
       "      <td>0.000000</td>\n",
       "      <td>0.000000</td>\n",
       "      <td>0.000000</td>\n",
       "      <td>0.000000</td>\n",
       "      <td>0.000000</td>\n",
       "      <td>0.000000</td>\n",
       "      <td>0.000000</td>\n",
       "      <td>0.000000</td>\n",
       "      <td>0.000000</td>\n",
       "      <td>0.000000</td>\n",
       "    </tr>\n",
       "    <tr>\n",
       "      <th>75%</th>\n",
       "      <td>61935.250000</td>\n",
       "      <td>57.000000</td>\n",
       "      <td>728.000000</td>\n",
       "      <td>104.000000</td>\n",
       "      <td>403.800000</td>\n",
       "      <td>88.000000</td>\n",
       "      <td>0.000000</td>\n",
       "      <td>0.000000</td>\n",
       "      <td>1.000000</td>\n",
       "      <td>7.000000</td>\n",
       "      <td>...</td>\n",
       "      <td>0.000000</td>\n",
       "      <td>0.000000</td>\n",
       "      <td>0.000000</td>\n",
       "      <td>0.000000</td>\n",
       "      <td>1.000000</td>\n",
       "      <td>0.000000</td>\n",
       "      <td>0.000000</td>\n",
       "      <td>0.000000</td>\n",
       "      <td>0.000000</td>\n",
       "      <td>0.000000</td>\n",
       "    </tr>\n",
       "    <tr>\n",
       "      <th>max</th>\n",
       "      <td>82580.000000</td>\n",
       "      <td>122.000000</td>\n",
       "      <td>1095.000000</td>\n",
       "      <td>588.000000</td>\n",
       "      <td>21781.000000</td>\n",
       "      <td>7730.250000</td>\n",
       "      <td>9.000000</td>\n",
       "      <td>3.000000</td>\n",
       "      <td>66.000000</td>\n",
       "      <td>116.000000</td>\n",
       "      <td>...</td>\n",
       "      <td>1.000000</td>\n",
       "      <td>1.000000</td>\n",
       "      <td>1.000000</td>\n",
       "      <td>1.000000</td>\n",
       "      <td>1.000000</td>\n",
       "      <td>1.000000</td>\n",
       "      <td>1.000000</td>\n",
       "      <td>1.000000</td>\n",
       "      <td>1.000000</td>\n",
       "      <td>1.000000</td>\n",
       "    </tr>\n",
       "  </tbody>\n",
       "</table>\n",
       "<p>8 rows × 26 columns</p>\n",
       "</div>"
      ],
      "text/plain": [
       "                 ID           Age  DaysSinceCreation  AverageLeadTime  \\\n",
       "count  82580.000000  78834.000000       82580.000000     82580.000000   \n",
       "mean   41290.500000     45.468554         459.138157        66.557205   \n",
       "std    23838.936952     16.526276         311.309295        87.928995   \n",
       "min        1.000000    -11.000000          12.000000        -1.000000   \n",
       "25%    20645.750000     34.000000         183.000000         0.000000   \n",
       "50%    41290.500000     46.000000         406.000000        30.000000   \n",
       "75%    61935.250000     57.000000         728.000000       104.000000   \n",
       "max    82580.000000    122.000000        1095.000000       588.000000   \n",
       "\n",
       "       LodgingRevenue  OtherRevenue  BookingsCanceled  BookingsNoShowed  \\\n",
       "count    82580.000000  82580.000000      82580.000000      82580.000000   \n",
       "mean       300.457373     67.890023          0.002047          0.000642   \n",
       "std        373.337007    114.496223          0.067177          0.029725   \n",
       "min          0.000000      0.000000          0.000000          0.000000   \n",
       "25%         66.400000      2.000000          0.000000          0.000000   \n",
       "50%        234.000000     39.000000          0.000000          0.000000   \n",
       "75%        403.800000     88.000000          0.000000          0.000000   \n",
       "max      21781.000000   7730.250000          9.000000          3.000000   \n",
       "\n",
       "       BookingsCheckedIn  PersonsNights  ...  SRMediumFloor     SRBathtub  \\\n",
       "count       82580.000000   82580.000000  ...   82580.000000  82580.000000   \n",
       "mean            0.798402       4.667958  ...       0.000884      0.002809   \n",
       "std             0.696880       4.562507  ...       0.029719      0.052930   \n",
       "min             0.000000       0.000000  ...       0.000000      0.000000   \n",
       "25%             1.000000       1.000000  ...       0.000000      0.000000   \n",
       "50%             1.000000       4.000000  ...       0.000000      0.000000   \n",
       "75%             1.000000       7.000000  ...       0.000000      0.000000   \n",
       "max            66.000000     116.000000  ...       1.000000      1.000000   \n",
       "\n",
       "           SRShower        SRCrib  SRKingSizeBed     SRTwinBed  \\\n",
       "count  82580.000000  82580.000000   82580.000000  82580.000000   \n",
       "mean       0.001732      0.012812       0.351671      0.142771   \n",
       "std        0.041577      0.112463       0.477495      0.349841   \n",
       "min        0.000000      0.000000       0.000000      0.000000   \n",
       "25%        0.000000      0.000000       0.000000      0.000000   \n",
       "50%        0.000000      0.000000       0.000000      0.000000   \n",
       "75%        0.000000      0.000000       1.000000      0.000000   \n",
       "max        1.000000      1.000000       1.000000      1.000000   \n",
       "\n",
       "       SRNearElevator  SRAwayFromElevator  SRNoAlcoholInMiniBar   SRQuietRoom  \n",
       "count    82580.000000        82580.000000          82580.000000  82580.000000  \n",
       "mean         0.000303            0.003548              0.000121      0.088060  \n",
       "std          0.017397            0.059460              0.011004      0.283384  \n",
       "min          0.000000            0.000000              0.000000      0.000000  \n",
       "25%          0.000000            0.000000              0.000000      0.000000  \n",
       "50%          0.000000            0.000000              0.000000      0.000000  \n",
       "75%          0.000000            0.000000              0.000000      0.000000  \n",
       "max          1.000000            1.000000              1.000000      1.000000  \n",
       "\n",
       "[8 rows x 26 columns]"
      ]
     },
     "execution_count": 9,
     "metadata": {},
     "output_type": "execute_result"
    }
   ],
   "source": [
    "df.describe()"
   ]
  },
  {
   "cell_type": "code",
   "execution_count": 10,
   "id": "a2114e81-e860-44cc-bac9-4f5d22b584a3",
   "metadata": {},
   "outputs": [
    {
     "data": {
      "text/plain": [
       "ID                         0\n",
       "Nationality                0\n",
       "Age                     3746\n",
       "DaysSinceCreation          0\n",
       "AverageLeadTime            0\n",
       "LodgingRevenue             0\n",
       "OtherRevenue               0\n",
       "BookingsCanceled           0\n",
       "BookingsNoShowed           0\n",
       "BookingsCheckedIn          0\n",
       "PersonsNights              0\n",
       "RoomNights                 0\n",
       "DaysSinceLastStay          0\n",
       "DaysSinceFirstStay         0\n",
       "DistributionChannel        0\n",
       "MarketSegment              0\n",
       "SRHighFloor                0\n",
       "SRLowFloor                 0\n",
       "SRAccessibleRoom           0\n",
       "SRMediumFloor              0\n",
       "SRBathtub                  0\n",
       "SRShower                   0\n",
       "SRCrib                     0\n",
       "SRKingSizeBed              0\n",
       "SRTwinBed                  0\n",
       "SRNearElevator             0\n",
       "SRAwayFromElevator         0\n",
       "SRNoAlcoholInMiniBar       0\n",
       "SRQuietRoom                0\n",
       "dtype: int64"
      ]
     },
     "execution_count": 10,
     "metadata": {},
     "output_type": "execute_result"
    }
   ],
   "source": [
    "df.isnull().sum()"
   ]
  },
  {
   "cell_type": "code",
   "execution_count": 11,
   "id": "c6d8e8be-5759-425b-986f-fde4b657bed5",
   "metadata": {},
   "outputs": [
    {
     "data": {
      "text/plain": [
       "45.46855417713169"
      ]
     },
     "execution_count": 11,
     "metadata": {},
     "output_type": "execute_result"
    }
   ],
   "source": [
    "df['Age'].mean()"
   ]
  },
  {
   "cell_type": "code",
   "execution_count": 12,
   "id": "f261519e-60d0-4f90-b13f-280a39b8d4d7",
   "metadata": {},
   "outputs": [],
   "source": [
    "df['Age'].fillna(df['Age'].mean(),inplace=True)\n",
    "df['Age']=df['Age'].astype(int)"
   ]
  },
  {
   "cell_type": "code",
   "execution_count": 13,
   "id": "e78174fa-2e59-4484-b34a-6457f8276895",
   "metadata": {},
   "outputs": [
    {
     "data": {
      "text/html": [
       "<div>\n",
       "<style scoped>\n",
       "    .dataframe tbody tr th:only-of-type {\n",
       "        vertical-align: middle;\n",
       "    }\n",
       "\n",
       "    .dataframe tbody tr th {\n",
       "        vertical-align: top;\n",
       "    }\n",
       "\n",
       "    .dataframe thead th {\n",
       "        text-align: right;\n",
       "    }\n",
       "</style>\n",
       "<table border=\"1\" class=\"dataframe\">\n",
       "  <thead>\n",
       "    <tr style=\"text-align: right;\">\n",
       "      <th></th>\n",
       "      <th>ID</th>\n",
       "      <th>Nationality</th>\n",
       "      <th>Age</th>\n",
       "      <th>DaysSinceCreation</th>\n",
       "      <th>AverageLeadTime</th>\n",
       "      <th>LodgingRevenue</th>\n",
       "      <th>OtherRevenue</th>\n",
       "      <th>BookingsCanceled</th>\n",
       "      <th>BookingsNoShowed</th>\n",
       "      <th>BookingsCheckedIn</th>\n",
       "      <th>...</th>\n",
       "      <th>SRMediumFloor</th>\n",
       "      <th>SRBathtub</th>\n",
       "      <th>SRShower</th>\n",
       "      <th>SRCrib</th>\n",
       "      <th>SRKingSizeBed</th>\n",
       "      <th>SRTwinBed</th>\n",
       "      <th>SRNearElevator</th>\n",
       "      <th>SRAwayFromElevator</th>\n",
       "      <th>SRNoAlcoholInMiniBar</th>\n",
       "      <th>SRQuietRoom</th>\n",
       "    </tr>\n",
       "  </thead>\n",
       "  <tbody>\n",
       "    <tr>\n",
       "      <th>0</th>\n",
       "      <td>1</td>\n",
       "      <td>PRT</td>\n",
       "      <td>51</td>\n",
       "      <td>150</td>\n",
       "      <td>45</td>\n",
       "      <td>371.0</td>\n",
       "      <td>105.3</td>\n",
       "      <td>1</td>\n",
       "      <td>0</td>\n",
       "      <td>3</td>\n",
       "      <td>...</td>\n",
       "      <td>0</td>\n",
       "      <td>0</td>\n",
       "      <td>0</td>\n",
       "      <td>0</td>\n",
       "      <td>0</td>\n",
       "      <td>0</td>\n",
       "      <td>0</td>\n",
       "      <td>0</td>\n",
       "      <td>0</td>\n",
       "      <td>0</td>\n",
       "    </tr>\n",
       "    <tr>\n",
       "      <th>1</th>\n",
       "      <td>2</td>\n",
       "      <td>PRT</td>\n",
       "      <td>45</td>\n",
       "      <td>1095</td>\n",
       "      <td>61</td>\n",
       "      <td>280.0</td>\n",
       "      <td>53.0</td>\n",
       "      <td>0</td>\n",
       "      <td>0</td>\n",
       "      <td>1</td>\n",
       "      <td>...</td>\n",
       "      <td>0</td>\n",
       "      <td>0</td>\n",
       "      <td>0</td>\n",
       "      <td>0</td>\n",
       "      <td>0</td>\n",
       "      <td>0</td>\n",
       "      <td>0</td>\n",
       "      <td>0</td>\n",
       "      <td>0</td>\n",
       "      <td>0</td>\n",
       "    </tr>\n",
       "  </tbody>\n",
       "</table>\n",
       "<p>2 rows × 29 columns</p>\n",
       "</div>"
      ],
      "text/plain": [
       "   ID Nationality  Age  DaysSinceCreation  AverageLeadTime  LodgingRevenue  \\\n",
       "0   1         PRT   51                150               45           371.0   \n",
       "1   2         PRT   45               1095               61           280.0   \n",
       "\n",
       "   OtherRevenue  BookingsCanceled  BookingsNoShowed  BookingsCheckedIn  ...  \\\n",
       "0         105.3                 1                 0                  3  ...   \n",
       "1          53.0                 0                 0                  1  ...   \n",
       "\n",
       "   SRMediumFloor  SRBathtub  SRShower  SRCrib SRKingSizeBed SRTwinBed  \\\n",
       "0              0          0         0       0             0         0   \n",
       "1              0          0         0       0             0         0   \n",
       "\n",
       "   SRNearElevator  SRAwayFromElevator  SRNoAlcoholInMiniBar  SRQuietRoom  \n",
       "0               0                   0                     0            0  \n",
       "1               0                   0                     0            0  \n",
       "\n",
       "[2 rows x 29 columns]"
      ]
     },
     "execution_count": 13,
     "metadata": {},
     "output_type": "execute_result"
    }
   ],
   "source": [
    "df[:2]"
   ]
  },
  {
   "cell_type": "code",
   "execution_count": 14,
   "id": "ad9048fd-23ad-48f6-870f-a1e478ae5fae",
   "metadata": {},
   "outputs": [
    {
     "data": {
      "text/plain": [
       "0    521\n",
       "1    473\n",
       "2      6\n",
       "Name: BookingsCheckedIn, dtype: int64"
      ]
     },
     "execution_count": 14,
     "metadata": {},
     "output_type": "execute_result"
    }
   ],
   "source": [
    "test['BookingsCheckedIn'].value_counts()"
   ]
  },
  {
   "cell_type": "code",
   "execution_count": 15,
   "id": "96302d84-2e4d-4b82-8196-db69e588cb44",
   "metadata": {},
   "outputs": [
    {
     "data": {
      "text/plain": [
       "Index(['ID', 'Nationality', 'Age', 'DaysSinceCreation', 'AverageLeadTime',\n",
       "       'LodgingRevenue', 'OtherRevenue', 'BookingsCanceled',\n",
       "       'BookingsNoShowed', 'BookingsCheckedIn', 'PersonsNights', 'RoomNights',\n",
       "       'DaysSinceLastStay', 'DaysSinceFirstStay', 'DistributionChannel',\n",
       "       'MarketSegment', 'SRHighFloor', 'SRLowFloor', 'SRAccessibleRoom',\n",
       "       'SRMediumFloor', 'SRBathtub', 'SRShower', 'SRCrib', 'SRKingSizeBed',\n",
       "       'SRTwinBed', 'SRNearElevator', 'SRAwayFromElevator',\n",
       "       'SRNoAlcoholInMiniBar', 'SRQuietRoom'],\n",
       "      dtype='object')"
      ]
     },
     "execution_count": 15,
     "metadata": {},
     "output_type": "execute_result"
    }
   ],
   "source": [
    "df.columns"
   ]
  },
  {
   "cell_type": "code",
   "execution_count": 16,
   "id": "963c3366-fcfd-499c-b36a-b1f8937c2611",
   "metadata": {},
   "outputs": [
    {
     "data": {
      "text/plain": [
       "Index(['ID', 'Nationality', 'Age', 'DaysSinceCreation', 'AverageLeadTime',\n",
       "       'LodgingRevenue', 'OtherRevenue', 'BookingsCanceled',\n",
       "       'BookingsNoShowed', 'BookingsCheckedIn', 'PersonsNights', 'RoomNights',\n",
       "       'DaysSinceLastStay', 'DaysSinceFirstStay', 'DistributionChannel',\n",
       "       'MarketSegment', 'SRHighFloor', 'SRLowFloor', 'SRAccessibleRoom',\n",
       "       'SRMediumFloor', 'SRBathtub', 'SRShower', 'SRCrib', 'SRKingSizeBed',\n",
       "       'SRTwinBed', 'SRNearElevator', 'SRAwayFromElevator',\n",
       "       'SRNoAlcoholInMiniBar', 'SRQuietRoom'],\n",
       "      dtype='object')"
      ]
     },
     "execution_count": 16,
     "metadata": {},
     "output_type": "execute_result"
    }
   ],
   "source": [
    "test.columns"
   ]
  },
  {
   "cell_type": "code",
   "execution_count": 17,
   "id": "fe7e6885-1205-443f-b381-4d8004c65fe5",
   "metadata": {},
   "outputs": [
    {
     "data": {
      "text/plain": [
       "1     61737\n",
       "0     19394\n",
       "2      1141\n",
       "3       132\n",
       "4        59\n",
       "5        20\n",
       "6        20\n",
       "7        16\n",
       "8        10\n",
       "9         9\n",
       "10        7\n",
       "11        6\n",
       "12        4\n",
       "13        4\n",
       "29        3\n",
       "15        3\n",
       "23        2\n",
       "14        2\n",
       "25        1\n",
       "17        1\n",
       "66        1\n",
       "26        1\n",
       "57        1\n",
       "40        1\n",
       "18        1\n",
       "24        1\n",
       "19        1\n",
       "20        1\n",
       "34        1\n",
       "Name: BookingsCheckedIn, dtype: int64"
      ]
     },
     "execution_count": 17,
     "metadata": {},
     "output_type": "execute_result"
    }
   ],
   "source": [
    "df['BookingsCheckedIn'].value_counts()"
   ]
  },
  {
   "cell_type": "code",
   "execution_count": 18,
   "id": "b3a0a315-e233-4cbc-94e9-fb65ce61a9b2",
   "metadata": {},
   "outputs": [],
   "source": [
    "# def countOccurrence(a):\n",
    "#     k = {}\n",
    "#     for j in a:\n",
    "#         if j in k:\n",
    "#             k[j] +=1\n",
    "#         else:\n",
    "#             k[j] =1\n",
    "#     return k\n",
    "# dic=countOccurrence(df['BookingsCheckedIn'].values)\n",
    "# lst1=[]\n",
    "# print(dic)\n",
    "# for k in dic:\n",
    "#     if k>1 and k!=1 and  k!=0 :\n",
    "#         lst1.append(k)        \n",
    "# df.BookingsCheckedIn[df.BookingsCheckedIn.isin(lst1)] = 2\n",
    "# df['BookingsCheckedIn'].value_counts()"
   ]
  },
  {
   "cell_type": "code",
   "execution_count": 19,
   "id": "46b879ed-47a0-4bc0-9110-ce4d55f778d4",
   "metadata": {},
   "outputs": [
    {
     "data": {
      "text/plain": [
       "0    521\n",
       "1    473\n",
       "2      6\n",
       "Name: BookingsCheckedIn, dtype: int64"
      ]
     },
     "execution_count": 19,
     "metadata": {},
     "output_type": "execute_result"
    }
   ],
   "source": [
    "test['BookingsCheckedIn'].value_counts()"
   ]
  },
  {
   "cell_type": "code",
   "execution_count": 20,
   "id": "19445c19-4f52-4af9-9263-4d482c9851a4",
   "metadata": {},
   "outputs": [
    {
     "data": {
      "text/plain": [
       "FRA    12307\n",
       "PRT    11382\n",
       "DEU    10164\n",
       "GBR     8610\n",
       "ESP     4864\n",
       "       ...  \n",
       "GNQ        1\n",
       "GIN        1\n",
       "SWZ        1\n",
       "SOM        1\n",
       "NPL        1\n",
       "Name: Nationality, Length: 188, dtype: int64"
      ]
     },
     "execution_count": 20,
     "metadata": {},
     "output_type": "execute_result"
    }
   ],
   "source": [
    "df['Nationality'].value_counts()"
   ]
  },
  {
   "cell_type": "code",
   "execution_count": 21,
   "id": "df3286d3-d989-4e51-8367-8aa2087c5fef",
   "metadata": {},
   "outputs": [
    {
     "data": {
      "text/plain": [
       "Travel Agent/Operator      67798\n",
       "Direct                     11709\n",
       "Corporate                   2565\n",
       "Electronic Distribution      508\n",
       "Name: DistributionChannel, dtype: int64"
      ]
     },
     "execution_count": 21,
     "metadata": {},
     "output_type": "execute_result"
    }
   ],
   "source": [
    "df['DistributionChannel'].value_counts()"
   ]
  },
  {
   "cell_type": "code",
   "execution_count": 22,
   "id": "0d03f8a2-7b55-4c1f-ae95-bccf5a593566",
   "metadata": {},
   "outputs": [
    {
     "data": {
      "text/plain": [
       "45     5439\n",
       "50     2015\n",
       "51     2013\n",
       "54     1965\n",
       "53     1913\n",
       "       ... \n",
       "110       1\n",
       "91        1\n",
       "122       1\n",
       "96        1\n",
       "109       1\n",
       "Name: Age, Length: 105, dtype: int64"
      ]
     },
     "execution_count": 22,
     "metadata": {},
     "output_type": "execute_result"
    }
   ],
   "source": [
    "df['Age'].value_counts()"
   ]
  },
  {
   "cell_type": "code",
   "execution_count": 23,
   "id": "f55d4f46-a8bb-4d41-98c0-e5e059d3461e",
   "metadata": {},
   "outputs": [],
   "source": [
    "columns=['Nationality','MarketSegment','DistributionChannel']\n",
    "for feature in columns:\n",
    "    le = LabelEncoder()\n",
    "    df[feature] = le.fit_transform(df[feature])\n",
    "    test[feature] = le.fit_transform(test[feature])"
   ]
  },
  {
   "cell_type": "code",
   "execution_count": null,
   "id": "a701b802-f55a-4ec2-8517-85b3841adcae",
   "metadata": {},
   "outputs": [],
   "source": []
  },
  {
   "cell_type": "code",
   "execution_count": 24,
   "id": "df5340ba-0f5d-4b03-b48e-a11c7266eb7d",
   "metadata": {},
   "outputs": [],
   "source": [
    "test_X=test.drop(columns=['BookingsCheckedIn','ID'])\n",
    "test_y=test[['BookingsCheckedIn']]"
   ]
  },
  {
   "cell_type": "code",
   "execution_count": 25,
   "id": "4c518ef9-ac17-4af4-b95d-ac2b7e507031",
   "metadata": {},
   "outputs": [],
   "source": [
    "X=df.drop(columns=['BookingsCheckedIn','ID'])\n",
    "y=df[['BookingsCheckedIn']]"
   ]
  },
  {
   "cell_type": "code",
   "execution_count": null,
   "id": "b17f1549-2991-44b4-a620-3bbeb00d547a",
   "metadata": {},
   "outputs": [],
   "source": []
  },
  {
   "cell_type": "code",
   "execution_count": null,
   "id": "b4c2747f-2e93-4a83-af6a-4a394b1db73a",
   "metadata": {},
   "outputs": [],
   "source": []
  },
  {
   "cell_type": "code",
   "execution_count": 26,
   "id": "f96936ad-91e8-4d39-b18f-141508fda25d",
   "metadata": {},
   "outputs": [
    {
     "name": "stdout",
     "output_type": "stream",
     "text": [
      "(82580, 27) (82580, 1)\n"
     ]
    }
   ],
   "source": [
    "print(X.shape,y.shape)"
   ]
  },
  {
   "cell_type": "code",
   "execution_count": 27,
   "id": "9ee578db-b2a3-4c14-9074-93a634e62482",
   "metadata": {},
   "outputs": [
    {
     "data": {
      "text/plain": [
       "(1000, 27)"
      ]
     },
     "execution_count": 27,
     "metadata": {},
     "output_type": "execute_result"
    }
   ],
   "source": [
    "test_X.shape"
   ]
  },
  {
   "cell_type": "code",
   "execution_count": 28,
   "id": "33459cb5-3772-46a0-a316-8bde29b949b8",
   "metadata": {},
   "outputs": [
    {
     "data": {
      "text/plain": [
       "29"
      ]
     },
     "execution_count": 28,
     "metadata": {},
     "output_type": "execute_result"
    }
   ],
   "source": [
    "len(df['BookingsCheckedIn'].value_counts())"
   ]
  },
  {
   "cell_type": "code",
   "execution_count": 29,
   "id": "a330d67f-d676-49c8-99ed-6c53f8d40050",
   "metadata": {},
   "outputs": [],
   "source": [
    "### Sandardization of data ###\n",
    "from sklearn.preprocessing import StandardScaler\n",
    "PredictorScaler=StandardScaler()\n",
    "TargetVarScaler=StandardScaler()\n",
    " \n",
    "# Storing the fit object for later reference\n",
    "PredictorScalerFit=PredictorScaler.fit(X)\n",
    "TargetVarScalerFit=TargetVarScaler.fit(y)\n",
    " \n",
    "# Generating the standardized values of X and y\n",
    "X=PredictorScalerFit.transform(X)\n",
    "y=TargetVarScalerFit.transform(y)\n",
    " \n",
    "# Split the data into training and testing set\n",
    "from sklearn.model_selection import train_test_split\n",
    "X_train, X_test, y_train, y_test = train_test_split(X, y, test_size=0.3, random_state=42)"
   ]
  },
  {
   "cell_type": "code",
   "execution_count": 30,
   "id": "c41894b9-9563-4d4f-a702-5dadc785d490",
   "metadata": {},
   "outputs": [
    {
     "name": "stdout",
     "output_type": "stream",
     "text": [
      "(57806, 27) (57806, 1) (24774, 27) (24774, 1)\n"
     ]
    }
   ],
   "source": [
    "print(X_train.shape,y_train.shape,X_test.shape,y_test.shape)\n"
   ]
  },
  {
   "cell_type": "code",
   "execution_count": 31,
   "id": "ec93e558-10bf-4ce8-9f10-3006c1d1a4a8",
   "metadata": {},
   "outputs": [],
   "source": [
    "# importing the libraries\n",
    "from keras.models import Sequential\n",
    "from keras import models  \n",
    "from keras import layers \n",
    " \n",
    "# create ANN model\n",
    "model = Sequential()\n",
    "# Defining the Input layer and FIRST hidden layer, both are same!\n",
    "model.add(Dense(units=32, input_dim=27, kernel_initializer='normal', activation='relu')) \n",
    "model.add(Dense(units=16, kernel_initializer='normal', activation='tanh'))\n",
    "model.add(Dense(1, kernel_initializer='normal'))\n",
    "# Compiling the model\n",
    "model.compile(loss='mean_squared_error', optimizer='adam')\n",
    " \n"
   ]
  },
  {
   "cell_type": "code",
   "execution_count": 32,
   "id": "8125366c-d2b1-41a5-91d7-b57683cbb2c8",
   "metadata": {},
   "outputs": [
    {
     "name": "stdout",
     "output_type": "stream",
     "text": [
      "Model: \"sequential\"\n",
      "_________________________________________________________________\n",
      " Layer (type)                Output Shape              Param #   \n",
      "=================================================================\n",
      " dense (Dense)               (None, 32)                896       \n",
      "                                                                 \n",
      " dense_1 (Dense)             (None, 16)                528       \n",
      "                                                                 \n",
      " dense_2 (Dense)             (None, 1)                 17        \n",
      "                                                                 \n",
      "=================================================================\n",
      "Total params: 1,441\n",
      "Trainable params: 1,441\n",
      "Non-trainable params: 0\n",
      "_________________________________________________________________\n"
     ]
    }
   ],
   "source": [
    "model.summary() "
   ]
  },
  {
   "cell_type": "code",
   "execution_count": null,
   "id": "381d71b3-299f-424a-855d-c1a3de997484",
   "metadata": {},
   "outputs": [],
   "source": []
  },
  {
   "cell_type": "code",
   "execution_count": 33,
   "id": "b0ff61ff-d6f1-47a2-a6d8-3f9600565666",
   "metadata": {},
   "outputs": [],
   "source": [
    "# # Fitting the ANN to the Training set\n",
    "# model.fit(X_train, y_train ,batch_size = 20, epochs = 50, verbose=1)"
   ]
  },
  {
   "cell_type": "code",
   "execution_count": 34,
   "id": "d492af16-a39e-4211-9ad4-08800e6e157b",
   "metadata": {},
   "outputs": [],
   "source": [
    "def FunctionFindBestParams(X_train, y_train, X_test, y_test):\n",
    "    \n",
    "    # Defining the list of hyper parameters to try\n",
    "    batch_size_list=[5, 10, 15, 20]\n",
    "    epoch_list  =   [5, 10, 50, 100]\n",
    "    \n",
    "    import pandas as pd\n",
    "    SearchResultsData=pd.DataFrame(columns=['TrialNumber', 'Parameters', 'Accuracy'])\n",
    "    \n",
    "    # initializing the trials\n",
    "    TrialNumber=0\n",
    "    for batch_size_trial in batch_size_list:\n",
    "        for epochs_trial in epoch_list:\n",
    "            TrialNumber+=1\n",
    "            # create ANN model\n",
    "            model = Sequential()\n",
    "            # Defining the first layer of the model\n",
    "            model.add(Dense(units=5, input_dim=X_train.shape[1], kernel_initializer='normal', activation='relu'))\n",
    " \n",
    "            # Defining the Second layer of the model\n",
    "            model.add(Dense(units=5, kernel_initializer='normal', activation='relu'))\n",
    " \n",
    "            # The output neuron is a single fully connected node \n",
    "            # Since we will be predicting a single number\n",
    "            model.add(Dense(1, kernel_initializer='normal'))\n",
    " \n",
    "            # Compiling the model\n",
    "            model.compile(loss='mean_squared_error', optimizer='adam')\n",
    " \n",
    "            # Fitting the ANN to the Training set\n",
    "            model.fit(X_train, y_train ,batch_size = batch_size_trial, epochs = epochs_trial, verbose=1)\n",
    " \n",
    "            MAPE = np.mean(100 * (np.abs(y_test-model.predict(X_test))/y_test))\n",
    "            \n",
    "            # printing the results of the current iteration\n",
    "            print(TrialNumber, 'Parameters:','batch_size:', batch_size_trial,'-', 'epochs:',epochs_trial, 'Accuracy:', 100-MAPE)\n",
    "            \n",
    "            SearchResultsData=SearchResultsData.append(pd.DataFrame(data=[[TrialNumber, str(batch_size_trial)+'-'+str(epochs_trial), 100-MAPE]],\n",
    "                                                                    columns=['TrialNumber', 'Parameters', 'Accuracy'] ))\n",
    "    return(SearchResultsData)\n",
    " \n",
    " \n"
   ]
  },
  {
   "cell_type": "code",
   "execution_count": null,
   "id": "64ba9556-0bec-4035-90cb-a4091c9f5cf9",
   "metadata": {},
   "outputs": [
    {
     "name": "stdout",
     "output_type": "stream",
     "text": [
      "Epoch 1/5\n",
      "11562/11562 [==============================] - 111s 9ms/step - loss: 0.5509\n",
      "Epoch 2/5\n",
      "11562/11562 [==============================] - 40s 3ms/step - loss: 0.1504\n",
      "Epoch 5/5\n",
      "11562/11562 [==============================] - 37s 3ms/step - loss: 0.1514\n",
      "775/775 [==============================] - 2s 2ms/step\n",
      "1 Parameters: batch_size: 5 - epochs: 5 Accuracy: 95.40073239570994\n",
      "Epoch 1/10\n",
      "11562/11562 [==============================] - 39s 3ms/step - loss: 0.1278\n",
      "Epoch 6/10\n",
      "11562/11562 [==============================] - 41s 4ms/step - loss: 0.1391\n",
      "Epoch 7/10\n",
      "11562/11562 [==============================] - 41s 4ms/step - loss: 0.1298\n",
      "Epoch 8/10\n",
      "11562/11562 [==============================] - 38s 3ms/step - loss: 0.1183\n",
      "Epoch 9/10\n",
      "775/775 [==============================] - 2s 2ms/step\n",
      "2 Parameters: batch_size: 5 - epochs: 10 Accuracy: 92.58959490430786\n",
      "Epoch 1/50\n",
      "11562/11562 [==============================] - 40s 3ms/step - loss: 0.6685\n",
      "Epoch 2/50\n",
      "11562/11562 [==============================] - 38s 3ms/step - loss: 0.6522\n",
      "Epoch 3/50\n",
      "11562/11562 [==============================] - 39s 3ms/step - loss: 0.5676\n",
      "Epoch 8/50\n",
      "11562/11562 [==============================] - 41s 4ms/step - loss: 0.5458\n",
      "Epoch 9/50\n",
      "11562/11562 [==============================] - 38s 3ms/step - loss: 0.5317\n",
      "Epoch 10/50\n",
      "11562/11562 [==============================] - 40s 3ms/step - loss: 0.4538\n",
      "Epoch 18/50\n",
      "11562/11562 [==============================] - 38s 3ms/step - loss: 0.4444\n",
      "Epoch 19/50\n",
      "11562/11562 [==============================] - 38s 3ms/step - loss: 0.4367\n",
      "Epoch 20/50\n",
      "11562/11562 [==============================] - 41s 4ms/step - loss: 0.3598\n",
      "Epoch 37/50\n",
      "11562/11562 [==============================] - 37s 3ms/step - loss: 0.3568\n",
      "Epoch 38/50\n",
      "11562/11562 [==============================] - 32s 3ms/step - loss: 0.3519\n",
      "Epoch 39/50\n",
      "11562/11562 [==============================] - 35s 3ms/step - loss: 0.3517\n",
      "Epoch 40/50\n",
      "11562/11562 [==============================] - 31s 3ms/step - loss: 0.3475\n",
      "Epoch 41/50\n",
      "11562/11562 [==============================] - 39s 3ms/step - loss: 0.1212\n",
      "Epoch 10/100\n",
      "11562/11562 [==============================] - 55s 5ms/step - loss: 0.1274\n",
      "Epoch 11/100\n",
      "11562/11562 [==============================] - 60s 5ms/step - loss: 0.0966\n",
      "Epoch 19/100\n",
      "11562/11562 [==============================] - 58s 5ms/step - loss: 0.0992\n",
      "Epoch 20/100\n",
      "11562/11562 [==============================] - 53s 5ms/step - loss: 0.0990\n",
      "Epoch 21/100\n",
      "11562/11562 [==============================] - 59s 5ms/step - loss: 0.0934\n",
      "Epoch 22/100\n",
      "11562/11562 [==============================] - 63s 5ms/step - loss: 0.0984\n",
      "Epoch 23/100\n",
      "11562/11562 [==============================] - 41s 4ms/step - loss: 0.0917\n",
      "Epoch 24/100\n",
      "11562/11562 [==============================] - 70s 6ms/step - loss: 0.0916\n",
      "Epoch 28/100\n",
      "11562/11562 [==============================] - 63s 5ms/step - loss: 0.0913\n",
      "Epoch 29/100\n",
      "11562/11562 [==============================] - 50s 4ms/step - loss: 0.0927\n",
      "Epoch 30/100\n",
      "11562/11562 [==============================] - 58s 5ms/step - loss: 0.0860\n",
      "Epoch 31/100\n",
      "11562/11562 [==============================] - 51s 4ms/step - loss: 0.0893\n",
      "Epoch 32/100\n",
      "11562/11562 [==============================] - 74s 6ms/step - loss: 0.0775\n",
      "Epoch 52/100\n",
      "11562/11562 [==============================] - 64s 6ms/step - loss: 0.0917\n",
      "Epoch 53/100\n",
      "11562/11562 [==============================] - 65s 6ms/step - loss: 0.0840\n",
      "Epoch 54/100\n",
      "11562/11562 [==============================] - 76s 7ms/step - loss: 0.0895\n",
      "Epoch 55/100\n",
      "11562/11562 [==============================] - 61s 5ms/step - loss: 0.0922\n",
      "Epoch 56/100\n",
      "11562/11562 [==============================] - 74s 6ms/step - loss: 0.0806\n",
      "Epoch 57/100\n",
      "11562/11562 [==============================] - 69s 6ms/step - loss: 0.0824\n",
      "Epoch 58/100\n",
      "11562/11562 [==============================] - 65s 6ms/step - loss: 0.0846\n",
      "Epoch 60/100\n",
      "11562/11562 [==============================] - 53s 5ms/step - loss: 0.0844\n",
      "Epoch 61/100\n",
      "11562/11562 [==============================] - 58s 5ms/step - loss: 0.0813\n",
      "Epoch 62/100\n",
      "11562/11562 [==============================] - 83s 7ms/step - loss: 0.0927\n",
      "Epoch 64/100\n",
      " 4959/11562 [===========>..................] - ETA: 32s - loss: 0.0613"
     ]
    }
   ],
   "source": [
    "######################################################\n",
    "ResultsData=FunctionFindBestParams(X_train, y_train, X_test, y_test)"
   ]
  },
  {
   "cell_type": "code",
   "execution_count": null,
   "id": "57c3c027-2808-47fd-8a66-7420f4b6c5fa",
   "metadata": {},
   "outputs": [],
   "source": []
  },
  {
   "cell_type": "code",
   "execution_count": null,
   "id": "964c68ef-dc29-4469-9a27-cf38b1ca7568",
   "metadata": {},
   "outputs": [],
   "source": [
    "\n",
    "%matplotlib inline\n",
    "ResultsData.plot(x='Parameters', y='Accuracy', figsize=(15,4), kind='line')"
   ]
  },
  {
   "cell_type": "code",
   "execution_count": 33,
   "id": "c8007163-7231-48a5-b4cd-8ce3a818b392",
   "metadata": {},
   "outputs": [],
   "source": [
    "test_X_=test_X\n",
    "test_y_=test_y\n",
    "\n",
    "###Storing the fit object for later reference\n",
    "PredictorScalerFit=PredictorScaler.fit(test_X)\n",
    "TargetVarScalerFit=TargetVarScaler.fit(test_y)\n",
    " \n",
    "### Generating the standardized values of X and y\n",
    "test_X=PredictorScalerFit.transform(test_X)\n",
    "test_y=TargetVarScalerFit.transform(test_y)"
   ]
  },
  {
   "cell_type": "code",
   "execution_count": 34,
   "id": "adef7166-bae7-4bb1-9afe-9275cd2cf4ee",
   "metadata": {},
   "outputs": [
    {
     "name": "stdout",
     "output_type": "stream",
     "text": [
      "Epoch 1/10\n",
      "13213/13213 [==============================] - 66s 5ms/step - loss: 0.5218 - val_loss: 0.2162\n",
      "Epoch 2/10\n",
      "13213/13213 [==============================] - 68s 5ms/step - loss: 0.4043 - val_loss: 0.1970\n",
      "Epoch 3/10\n",
      "13213/13213 [==============================] - 70s 5ms/step - loss: 0.3523 - val_loss: 0.1448\n",
      "Epoch 4/10\n",
      "13213/13213 [==============================] - 68s 5ms/step - loss: 0.3218 - val_loss: 0.1454\n",
      "Epoch 5/10\n",
      "13213/13213 [==============================] - 64s 5ms/step - loss: 0.3336 - val_loss: 0.1432\n",
      "Epoch 6/10\n",
      "13213/13213 [==============================] - 66s 5ms/step - loss: 0.2917 - val_loss: 0.1214\n",
      "Epoch 7/10\n",
      "13213/13213 [==============================] - 65s 5ms/step - loss: 0.3049 - val_loss: 0.1647\n",
      "Epoch 8/10\n",
      "13213/13213 [==============================] - 67s 5ms/step - loss: 0.2806 - val_loss: 0.1296\n",
      "Epoch 9/10\n",
      "13213/13213 [==============================] - 62s 5ms/step - loss: 0.2802 - val_loss: 0.1352\n",
      "Epoch 10/10\n",
      "13213/13213 [==============================] - 71s 5ms/step - loss: 0.2529 - val_loss: 0.1047\n"
     ]
    }
   ],
   "source": [
    "import keras\n",
    "import tensorflow as tf\n",
    "from tensorflow.keras.callbacks import EarlyStopping, ModelCheckpoint\n",
    "epochs=10\n",
    "batch_size=5\n",
    "es = tf.keras.callbacks.EarlyStopping(monitor='val_loss', \n",
    "                                   mode='min',\n",
    "                                   patience=15, \n",
    "                                restore_best_weights=True)\n",
    "\n",
    "history = model.fit(X,y,callbacks=[es],epochs=epochs,batch_size=batch_size,shuffle=True,validation_split=0.2,verbose=1)"
   ]
  },
  {
   "cell_type": "code",
   "execution_count": 35,
   "id": "2d0f99eb-f469-444d-948a-53c26ed43c68",
   "metadata": {},
   "outputs": [],
   "source": [
    "# history=model.fit(X, y,batch_size = 5, epochs = 10, verbose=0)"
   ]
  },
  {
   "cell_type": "code",
   "execution_count": 36,
   "id": "65ce8095-7928-464e-9815-3e7c09c22f56",
   "metadata": {},
   "outputs": [],
   "source": [
    "# history.history"
   ]
  },
  {
   "cell_type": "code",
   "execution_count": 37,
   "id": "20c92a83-0092-4170-87ab-7079a2550cbe",
   "metadata": {},
   "outputs": [
    {
     "data": {
      "image/png": "[encoded data removed]",
      "text/plain": [
       "<Figure size 720x432 with 1 Axes>"
      ]
     },
     "metadata": {
      "needs_background": "light"
     },
     "output_type": "display_data"
    }
   ],
   "source": [
    "history_dict=history.history\n",
    "loss = history_dict['loss']\n",
    "val_loss = history_dict['val_loss']\n",
    "\n",
    "# Plot the loss function\n",
    "fig, ax = plt.subplots(1, 1, figsize=(10,6))\n",
    "ax.plot(np.sqrt(history.history['loss']), 'r', label='train')\n",
    "ax.plot(np.sqrt(history.history['val_loss']), 'b' ,label='val')\n",
    "ax.set_xlabel(r'Epoch', fontsize=20)\n",
    "ax.set_ylabel(r'Loss', fontsize=20)\n",
    "ax.legend()\n",
    "ax.tick_params(labelsize=20)\n",
    "\n",
    "\n",
    "\n",
    "\n"
   ]
  },
  {
   "cell_type": "code",
   "execution_count": 39,
   "id": "8c807ddb-1d56-4e8d-8074-8ca866f021e2",
   "metadata": {},
   "outputs": [],
   "source": [
    "ann_viz(model,view=True,filename=\"network.gv\",  title=\"Neural network\" )"
   ]
  },
  {
   "cell_type": "code",
   "execution_count": 38,
   "id": "1bf57a36-d920-4cde-bb4e-81f04f8e0211",
   "metadata": {},
   "outputs": [
    {
     "data": {
      "image/png": "[encoded data removed]",
      "text/plain": [
       "<IPython.core.display.Image object>"
      ]
     },
     "execution_count": 38,
     "metadata": {},
     "output_type": "execute_result"
    }
   ],
   "source": [
    "plot_model(model,to_file='model_plot.png',show_shapes=True, show_layer_names=True)"
   ]
  },
  {
   "cell_type": "code",
   "execution_count": 39,
   "id": "a3f30ef5-0d61-421c-8d44-d08b3ee87346",
   "metadata": {},
   "outputs": [
    {
     "data": {
      "image/png": "[encoded data removed]",
      "text/plain": [
       "<PIL.Image.Image image mode=RGBA size=107x27 at 0x21D90847250>"
      ]
     },
     "execution_count": 39,
     "metadata": {},
     "output_type": "execute_result"
    }
   ],
   "source": [
    "visualkeras.layered_view(model)"
   ]
  },
  {
   "cell_type": "code",
   "execution_count": null,
   "id": "21c07bc1-79fd-475d-929e-dbbf53092977",
   "metadata": {},
   "outputs": [],
   "source": []
  },
  {
   "cell_type": "code",
   "execution_count": 40,
   "id": "2097d62b-449e-4581-a0bd-9af20bb6095b",
   "metadata": {},
   "outputs": [
    {
     "name": "stdout",
     "output_type": "stream",
     "text": [
      "2581/2581 [==============================] - 11s 4ms/step\n",
      "Accuracy : 83.45413404305867\n"
     ]
    }
   ],
   "source": [
    "MAPE = np.mean(100 * (np.abs(y-model.predict(X))/y))\n",
    "accuracy=100-MAPE\n",
    "print(\"Accuracy :\",accuracy)"
   ]
  },
  {
   "cell_type": "code",
   "execution_count": 41,
   "id": "dcb619f9-5bb1-44e1-864f-5e9b5270d411",
   "metadata": {},
   "outputs": [
    {
     "name": "stdout",
     "output_type": "stream",
     "text": [
      "32/32 [==============================] - 0s 3ms/step\n"
     ]
    },
    {
     "data": {
      "text/html": [
       "<div>\n",
       "<style scoped>\n",
       "    .dataframe tbody tr th:only-of-type {\n",
       "        vertical-align: middle;\n",
       "    }\n",
       "\n",
       "    .dataframe tbody tr th {\n",
       "        vertical-align: top;\n",
       "    }\n",
       "\n",
       "    .dataframe thead th {\n",
       "        text-align: right;\n",
       "    }\n",
       "</style>\n",
       "<table border=\"1\" class=\"dataframe\">\n",
       "  <thead>\n",
       "    <tr style=\"text-align: right;\">\n",
       "      <th></th>\n",
       "      <th>Nationality</th>\n",
       "      <th>Age</th>\n",
       "      <th>DaysSinceCreation</th>\n",
       "      <th>AverageLeadTime</th>\n",
       "      <th>LodgingRevenue</th>\n",
       "      <th>OtherRevenue</th>\n",
       "      <th>BookingsCanceled</th>\n",
       "      <th>BookingsNoShowed</th>\n",
       "      <th>PersonsNights</th>\n",
       "      <th>RoomNights</th>\n",
       "      <th>...</th>\n",
       "      <th>SRShower</th>\n",
       "      <th>SRCrib</th>\n",
       "      <th>SRKingSizeBed</th>\n",
       "      <th>SRTwinBed</th>\n",
       "      <th>SRNearElevator</th>\n",
       "      <th>SRAwayFromElevator</th>\n",
       "      <th>SRNoAlcoholInMiniBar</th>\n",
       "      <th>SRQuietRoom</th>\n",
       "      <th>BookingsCheckedIn_y</th>\n",
       "      <th>BookingsCheckedIn</th>\n",
       "    </tr>\n",
       "  </thead>\n",
       "  <tbody>\n",
       "    <tr>\n",
       "      <th>0</th>\n",
       "      <td>1.672072</td>\n",
       "      <td>0.380090</td>\n",
       "      <td>2.209315</td>\n",
       "      <td>-0.555302</td>\n",
       "      <td>-0.541048</td>\n",
       "      <td>-0.441840</td>\n",
       "      <td>0.0</td>\n",
       "      <td>0.0</td>\n",
       "      <td>-0.658221</td>\n",
       "      <td>-0.699310</td>\n",
       "      <td>...</td>\n",
       "      <td>0.0</td>\n",
       "      <td>-0.222076</td>\n",
       "      <td>-0.886405</td>\n",
       "      <td>-0.377964</td>\n",
       "      <td>-0.054855</td>\n",
       "      <td>0.0</td>\n",
       "      <td>0.0</td>\n",
       "      <td>-0.360477</td>\n",
       "      <td>-0.947933</td>\n",
       "      <td>1.0</td>\n",
       "    </tr>\n",
       "    <tr>\n",
       "      <th>1</th>\n",
       "      <td>1.672072</td>\n",
       "      <td>-1.238600</td>\n",
       "      <td>2.209315</td>\n",
       "      <td>1.404232</td>\n",
       "      <td>1.058645</td>\n",
       "      <td>1.166354</td>\n",
       "      <td>0.0</td>\n",
       "      <td>0.0</td>\n",
       "      <td>2.532895</td>\n",
       "      <td>1.689045</td>\n",
       "      <td>...</td>\n",
       "      <td>0.0</td>\n",
       "      <td>-0.222076</td>\n",
       "      <td>-0.886405</td>\n",
       "      <td>-0.377964</td>\n",
       "      <td>-0.054855</td>\n",
       "      <td>0.0</td>\n",
       "      <td>0.0</td>\n",
       "      <td>-0.360477</td>\n",
       "      <td>1.006568</td>\n",
       "      <td>0.0</td>\n",
       "    </tr>\n",
       "    <tr>\n",
       "      <th>2</th>\n",
       "      <td>1.672072</td>\n",
       "      <td>-1.290815</td>\n",
       "      <td>2.209315</td>\n",
       "      <td>-0.555302</td>\n",
       "      <td>-0.541048</td>\n",
       "      <td>-0.441840</td>\n",
       "      <td>0.0</td>\n",
       "      <td>0.0</td>\n",
       "      <td>-0.658221</td>\n",
       "      <td>-0.699310</td>\n",
       "      <td>...</td>\n",
       "      <td>0.0</td>\n",
       "      <td>-0.222076</td>\n",
       "      <td>-0.886405</td>\n",
       "      <td>-0.377964</td>\n",
       "      <td>-0.054855</td>\n",
       "      <td>0.0</td>\n",
       "      <td>0.0</td>\n",
       "      <td>-0.360477</td>\n",
       "      <td>-0.947933</td>\n",
       "      <td>1.0</td>\n",
       "    </tr>\n",
       "    <tr>\n",
       "      <th>3</th>\n",
       "      <td>1.672072</td>\n",
       "      <td>-1.447463</td>\n",
       "      <td>2.209315</td>\n",
       "      <td>-0.555302</td>\n",
       "      <td>-0.541048</td>\n",
       "      <td>-0.441840</td>\n",
       "      <td>0.0</td>\n",
       "      <td>0.0</td>\n",
       "      <td>-0.658221</td>\n",
       "      <td>-0.699310</td>\n",
       "      <td>...</td>\n",
       "      <td>0.0</td>\n",
       "      <td>-0.222076</td>\n",
       "      <td>-0.886405</td>\n",
       "      <td>-0.377964</td>\n",
       "      <td>-0.054855</td>\n",
       "      <td>0.0</td>\n",
       "      <td>0.0</td>\n",
       "      <td>-0.360477</td>\n",
       "      <td>-0.947933</td>\n",
       "      <td>1.0</td>\n",
       "    </tr>\n",
       "    <tr>\n",
       "      <th>4</th>\n",
       "      <td>1.266072</td>\n",
       "      <td>NaN</td>\n",
       "      <td>2.209315</td>\n",
       "      <td>-0.555302</td>\n",
       "      <td>-0.541048</td>\n",
       "      <td>-0.441840</td>\n",
       "      <td>0.0</td>\n",
       "      <td>0.0</td>\n",
       "      <td>-0.658221</td>\n",
       "      <td>-0.699310</td>\n",
       "      <td>...</td>\n",
       "      <td>0.0</td>\n",
       "      <td>-0.222076</td>\n",
       "      <td>1.128152</td>\n",
       "      <td>-0.377964</td>\n",
       "      <td>-0.054855</td>\n",
       "      <td>0.0</td>\n",
       "      <td>0.0</td>\n",
       "      <td>-0.360477</td>\n",
       "      <td>-0.947933</td>\n",
       "      <td>NaN</td>\n",
       "    </tr>\n",
       "  </tbody>\n",
       "</table>\n",
       "<p>5 rows × 29 columns</p>\n",
       "</div>"
      ],
      "text/plain": [
       "   Nationality       Age  DaysSinceCreation  AverageLeadTime  LodgingRevenue  \\\n",
       "0     1.672072  0.380090           2.209315        -0.555302       -0.541048   \n",
       "1     1.672072 -1.238600           2.209315         1.404232        1.058645   \n",
       "2     1.672072 -1.290815           2.209315        -0.555302       -0.541048   \n",
       "3     1.672072 -1.447463           2.209315        -0.555302       -0.541048   \n",
       "4     1.266072       NaN           2.209315        -0.555302       -0.541048   \n",
       "\n",
       "   OtherRevenue  BookingsCanceled  BookingsNoShowed  PersonsNights  \\\n",
       "0     -0.441840               0.0               0.0      -0.658221   \n",
       "1      1.166354               0.0               0.0       2.532895   \n",
       "2     -0.441840               0.0               0.0      -0.658221   \n",
       "3     -0.441840               0.0               0.0      -0.658221   \n",
       "4     -0.441840               0.0               0.0      -0.658221   \n",
       "\n",
       "   RoomNights  ...  SRShower    SRCrib  SRKingSizeBed  SRTwinBed  \\\n",
       "0   -0.699310  ...       0.0 -0.222076      -0.886405  -0.377964   \n",
       "1    1.689045  ...       0.0 -0.222076      -0.886405  -0.377964   \n",
       "2   -0.699310  ...       0.0 -0.222076      -0.886405  -0.377964   \n",
       "3   -0.699310  ...       0.0 -0.222076      -0.886405  -0.377964   \n",
       "4   -0.699310  ...       0.0 -0.222076       1.128152  -0.377964   \n",
       "\n",
       "   SRNearElevator  SRAwayFromElevator  SRNoAlcoholInMiniBar  SRQuietRoom  \\\n",
       "0       -0.054855                 0.0                   0.0    -0.360477   \n",
       "1       -0.054855                 0.0                   0.0    -0.360477   \n",
       "2       -0.054855                 0.0                   0.0    -0.360477   \n",
       "3       -0.054855                 0.0                   0.0    -0.360477   \n",
       "4       -0.054855                 0.0                   0.0    -0.360477   \n",
       "\n",
       "   BookingsCheckedIn_y  BookingsCheckedIn  \n",
       "0            -0.947933                1.0  \n",
       "1             1.006568                0.0  \n",
       "2            -0.947933                1.0  \n",
       "3            -0.947933                1.0  \n",
       "4            -0.947933                NaN  \n",
       "\n",
       "[5 rows x 29 columns]"
      ]
     },
     "execution_count": 41,
     "metadata": {},
     "output_type": "execute_result"
    }
   ],
   "source": [
    "PredictorScalerFit=PredictorScaler.fit(test_X)\n",
    "TargetVarScalerFit=TargetVarScaler.fit(test_y)\n",
    " \n",
    "# Generating Predictions on testing data\n",
    "Predictions=model.predict(test_X)\n",
    " \n",
    "# Scaling the predicted Price data back to original price scale\n",
    "Predictions=TargetVarScalerFit.inverse_transform(Predictions)\n",
    " \n",
    "# Scaling the y_test Price data back to original price scale\n",
    "y_test_orig=TargetVarScalerFit.inverse_transform(test_y)\n",
    " \n",
    "# Scaling the test data back to original scale\n",
    "Test_Data=PredictorScalerFit.inverse_transform(test_X)\n",
    "Predictors=['Nationality', 'Age', 'DaysSinceCreation', 'AverageLeadTime',\n",
    "       'LodgingRevenue', 'OtherRevenue', 'BookingsCanceled',\n",
    "       'BookingsNoShowed', 'PersonsNights', 'RoomNights',\n",
    "       'DaysSinceLastStay', 'DaysSinceFirstStay', 'DistributionChannel',\n",
    "       'MarketSegment', 'SRHighFloor', 'SRLowFloor', 'SRAccessibleRoom',\n",
    "       'SRMediumFloor', 'SRBathtub', 'SRShower', 'SRCrib', 'SRKingSizeBed',\n",
    "       'SRTwinBed', 'SRNearElevator', 'SRAwayFromElevator',\n",
    "       'SRNoAlcoholInMiniBar', 'SRQuietRoom']\n",
    "TestingData=pd.DataFrame(data=Test_Data, columns=Predictors)\n",
    "TestingData['BookingsCheckedIn_y']=y_test_orig\n",
    "TestingData['BookingsCheckedIn']=abs(np.round_(Predictions))\n",
    "TestingData.head()"
   ]
  },
  {
   "cell_type": "code",
   "execution_count": null,
   "id": "2689fe36-e554-42e2-910f-8b7b5fda2754",
   "metadata": {},
   "outputs": [],
   "source": []
  },
  {
   "cell_type": "code",
   "execution_count": null,
   "id": "91198495-ce93-4063-a77f-ea6546cc1569",
   "metadata": {},
   "outputs": [],
   "source": []
  },
  {
   "cell_type": "code",
   "execution_count": 42,
   "id": "a2c9dd85-f12e-4fb8-9426-a19f95785629",
   "metadata": {},
   "outputs": [
    {
     "name": "stdout",
     "output_type": "stream",
     "text": [
      "The Accuracy of ANN model is: 74.7179313673448\n"
     ]
    }
   ],
   "source": [
    "TestingData.fillna(0,inplace=True)\n",
    "APE=100*(abs(TestingData['BookingsCheckedIn_y']-TestingData['BookingsCheckedIn'])/TestingData['BookingsCheckedIn_y'])\n",
    "APE.replace([np.inf, -np.inf], 0, inplace=True)\n",
    "TestingData['APE']=abs(APE)\n",
    " \n",
    "print('The Accuracy of ANN model is:', 100-abs(np.mean(APE)))\n"
   ]
  },
  {
   "cell_type": "code",
   "execution_count": 43,
   "id": "71096029-59c5-42f5-ae12-20b3d011df6e",
   "metadata": {},
   "outputs": [],
   "source": [
    "test['BookingsCheckedIn_predicted']=abs(np.round_(Predictions))"
   ]
  },
  {
   "cell_type": "code",
   "execution_count": 44,
   "id": "286e5a66-0c11-4c3a-9eec-78eae9a53d2d",
   "metadata": {},
   "outputs": [
    {
     "name": "stdout",
     "output_type": "stream",
     "text": [
      "INFO:tensorflow:Assets written to: ram://b950fe18-e459-40f2-b7c2-f2743b49184e/assets\n"
     ]
    }
   ],
   "source": [
    "import pickle\n",
    "pickle.dump(model, open('model.pkl','wb'))"
   ]
  },
  {
   "cell_type": "code",
   "execution_count": 45,
   "id": "42c2d86b-dd07-4ebd-acc0-64c943af1f70",
   "metadata": {},
   "outputs": [],
   "source": [
    "# predictions=model.predict(test_X_)"
   ]
  },
  {
   "cell_type": "code",
   "execution_count": 46,
   "id": "a25d27c8-d2e3-49e0-a486-c2b58c981de4",
   "metadata": {},
   "outputs": [],
   "source": [
    "# predictions"
   ]
  },
  {
   "cell_type": "code",
   "execution_count": 47,
   "id": "12c67993-5489-4acd-8fa1-e109d0738449",
   "metadata": {},
   "outputs": [],
   "source": [
    "# test['BookingsCheckedIn_predicted']=np.round_(predictions)"
   ]
  },
  {
   "cell_type": "code",
   "execution_count": 48,
   "id": "8510bae4-ceb1-487b-9168-a2fc8710121a",
   "metadata": {},
   "outputs": [],
   "source": [
    "test.fillna(0,inplace=True)"
   ]
  },
  {
   "cell_type": "code",
   "execution_count": 49,
   "id": "0519dcff-463b-4f48-afdb-9a6706e3c34b",
   "metadata": {},
   "outputs": [
    {
     "data": {
      "text/html": [
       "<div>\n",
       "<style scoped>\n",
       "    .dataframe tbody tr th:only-of-type {\n",
       "        vertical-align: middle;\n",
       "    }\n",
       "\n",
       "    .dataframe tbody tr th {\n",
       "        vertical-align: top;\n",
       "    }\n",
       "\n",
       "    .dataframe thead th {\n",
       "        text-align: right;\n",
       "    }\n",
       "</style>\n",
       "<table border=\"1\" class=\"dataframe\">\n",
       "  <thead>\n",
       "    <tr style=\"text-align: right;\">\n",
       "      <th></th>\n",
       "      <th>ID</th>\n",
       "      <th>Nationality</th>\n",
       "      <th>Age</th>\n",
       "      <th>DaysSinceCreation</th>\n",
       "      <th>AverageLeadTime</th>\n",
       "      <th>LodgingRevenue</th>\n",
       "      <th>OtherRevenue</th>\n",
       "      <th>BookingsCanceled</th>\n",
       "      <th>BookingsNoShowed</th>\n",
       "      <th>BookingsCheckedIn</th>\n",
       "      <th>...</th>\n",
       "      <th>SRBathtub</th>\n",
       "      <th>SRShower</th>\n",
       "      <th>SRCrib</th>\n",
       "      <th>SRKingSizeBed</th>\n",
       "      <th>SRTwinBed</th>\n",
       "      <th>SRNearElevator</th>\n",
       "      <th>SRAwayFromElevator</th>\n",
       "      <th>SRNoAlcoholInMiniBar</th>\n",
       "      <th>SRQuietRoom</th>\n",
       "      <th>BookingsCheckedIn_predicted</th>\n",
       "    </tr>\n",
       "  </thead>\n",
       "  <tbody>\n",
       "    <tr>\n",
       "      <th>0</th>\n",
       "      <td>82591</td>\n",
       "      <td>41</td>\n",
       "      <td>47.0</td>\n",
       "      <td>11</td>\n",
       "      <td>0</td>\n",
       "      <td>0.00</td>\n",
       "      <td>0.0</td>\n",
       "      <td>0</td>\n",
       "      <td>0</td>\n",
       "      <td>0</td>\n",
       "      <td>...</td>\n",
       "      <td>0</td>\n",
       "      <td>0</td>\n",
       "      <td>0</td>\n",
       "      <td>0</td>\n",
       "      <td>0</td>\n",
       "      <td>0</td>\n",
       "      <td>0</td>\n",
       "      <td>0</td>\n",
       "      <td>0</td>\n",
       "      <td>1.0</td>\n",
       "    </tr>\n",
       "    <tr>\n",
       "      <th>1</th>\n",
       "      <td>82592</td>\n",
       "      <td>41</td>\n",
       "      <td>16.0</td>\n",
       "      <td>11</td>\n",
       "      <td>130</td>\n",
       "      <td>483.48</td>\n",
       "      <td>155.1</td>\n",
       "      <td>0</td>\n",
       "      <td>0</td>\n",
       "      <td>1</td>\n",
       "      <td>...</td>\n",
       "      <td>0</td>\n",
       "      <td>0</td>\n",
       "      <td>0</td>\n",
       "      <td>0</td>\n",
       "      <td>0</td>\n",
       "      <td>0</td>\n",
       "      <td>0</td>\n",
       "      <td>0</td>\n",
       "      <td>0</td>\n",
       "      <td>0.0</td>\n",
       "    </tr>\n",
       "    <tr>\n",
       "      <th>2</th>\n",
       "      <td>82593</td>\n",
       "      <td>41</td>\n",
       "      <td>15.0</td>\n",
       "      <td>11</td>\n",
       "      <td>0</td>\n",
       "      <td>0.00</td>\n",
       "      <td>0.0</td>\n",
       "      <td>0</td>\n",
       "      <td>0</td>\n",
       "      <td>0</td>\n",
       "      <td>...</td>\n",
       "      <td>0</td>\n",
       "      <td>0</td>\n",
       "      <td>0</td>\n",
       "      <td>0</td>\n",
       "      <td>0</td>\n",
       "      <td>0</td>\n",
       "      <td>0</td>\n",
       "      <td>0</td>\n",
       "      <td>0</td>\n",
       "      <td>1.0</td>\n",
       "    </tr>\n",
       "    <tr>\n",
       "      <th>3</th>\n",
       "      <td>82594</td>\n",
       "      <td>41</td>\n",
       "      <td>12.0</td>\n",
       "      <td>11</td>\n",
       "      <td>0</td>\n",
       "      <td>0.00</td>\n",
       "      <td>0.0</td>\n",
       "      <td>0</td>\n",
       "      <td>0</td>\n",
       "      <td>0</td>\n",
       "      <td>...</td>\n",
       "      <td>0</td>\n",
       "      <td>0</td>\n",
       "      <td>0</td>\n",
       "      <td>0</td>\n",
       "      <td>0</td>\n",
       "      <td>0</td>\n",
       "      <td>0</td>\n",
       "      <td>0</td>\n",
       "      <td>0</td>\n",
       "      <td>1.0</td>\n",
       "    </tr>\n",
       "    <tr>\n",
       "      <th>4</th>\n",
       "      <td>82595</td>\n",
       "      <td>36</td>\n",
       "      <td>0.0</td>\n",
       "      <td>11</td>\n",
       "      <td>0</td>\n",
       "      <td>0.00</td>\n",
       "      <td>0.0</td>\n",
       "      <td>0</td>\n",
       "      <td>0</td>\n",
       "      <td>0</td>\n",
       "      <td>...</td>\n",
       "      <td>0</td>\n",
       "      <td>0</td>\n",
       "      <td>0</td>\n",
       "      <td>1</td>\n",
       "      <td>0</td>\n",
       "      <td>0</td>\n",
       "      <td>0</td>\n",
       "      <td>0</td>\n",
       "      <td>0</td>\n",
       "      <td>0.0</td>\n",
       "    </tr>\n",
       "  </tbody>\n",
       "</table>\n",
       "<p>5 rows × 30 columns</p>\n",
       "</div>"
      ],
      "text/plain": [
       "      ID  Nationality   Age  DaysSinceCreation  AverageLeadTime  \\\n",
       "0  82591           41  47.0                 11                0   \n",
       "1  82592           41  16.0                 11              130   \n",
       "2  82593           41  15.0                 11                0   \n",
       "3  82594           41  12.0                 11                0   \n",
       "4  82595           36   0.0                 11                0   \n",
       "\n",
       "   LodgingRevenue  OtherRevenue  BookingsCanceled  BookingsNoShowed  \\\n",
       "0            0.00           0.0                 0                 0   \n",
       "1          483.48         155.1                 0                 0   \n",
       "2            0.00           0.0                 0                 0   \n",
       "3            0.00           0.0                 0                 0   \n",
       "4            0.00           0.0                 0                 0   \n",
       "\n",
       "   BookingsCheckedIn  ...  SRBathtub  SRShower  SRCrib  SRKingSizeBed  \\\n",
       "0                  0  ...          0         0       0              0   \n",
       "1                  1  ...          0         0       0              0   \n",
       "2                  0  ...          0         0       0              0   \n",
       "3                  0  ...          0         0       0              0   \n",
       "4                  0  ...          0         0       0              1   \n",
       "\n",
       "   SRTwinBed  SRNearElevator  SRAwayFromElevator  SRNoAlcoholInMiniBar  \\\n",
       "0          0               0                   0                     0   \n",
       "1          0               0                   0                     0   \n",
       "2          0               0                   0                     0   \n",
       "3          0               0                   0                     0   \n",
       "4          0               0                   0                     0   \n",
       "\n",
       "   SRQuietRoom  BookingsCheckedIn_predicted  \n",
       "0            0                          1.0  \n",
       "1            0                          0.0  \n",
       "2            0                          1.0  \n",
       "3            0                          1.0  \n",
       "4            0                          0.0  \n",
       "\n",
       "[5 rows x 30 columns]"
      ]
     },
     "execution_count": 49,
     "metadata": {},
     "output_type": "execute_result"
    }
   ],
   "source": [
    "test.head()"
   ]
  },
  {
   "cell_type": "code",
   "execution_count": 50,
   "id": "3251ad69-f7fc-4e5a-ae91-9d4010f8d1d9",
   "metadata": {},
   "outputs": [
    {
     "data": {
      "text/plain": [
       "0.0    798\n",
       "1.0    202\n",
       "Name: BookingsCheckedIn_predicted, dtype: int64"
      ]
     },
     "execution_count": 50,
     "metadata": {},
     "output_type": "execute_result"
    }
   ],
   "source": [
    "test['BookingsCheckedIn_predicted'].value_counts()"
   ]
  },
  {
   "cell_type": "code",
   "execution_count": 51,
   "id": "dc0f3435-69a0-4b8d-b2b1-43211817c364",
   "metadata": {},
   "outputs": [
    {
     "name": "stdout",
     "output_type": "stream",
     "text": [
      "[[324 197   0]\n",
      " [471   2   0]\n",
      " [  3   3   0]]\n"
     ]
    }
   ],
   "source": [
    "from sklearn.metrics import confusion_matrix\n",
    "conf_mat=confusion_matrix(test_y_, abs(np.round_(np.nan_to_num(Predictions))))\n",
    "print(conf_mat)"
   ]
  },
  {
   "cell_type": "code",
   "execution_count": 52,
   "id": "79b6bb99-0772-4201-9ec1-d9ca8be9600b",
   "metadata": {},
   "outputs": [
    {
     "data": {
      "text/plain": [
       "Text(132.0, 0.5, 'True_number')"
      ]
     },
     "execution_count": 52,
     "metadata": {},
     "output_type": "execute_result"
    },
    {
     "data": {
      "image/png": "[encoded data removed]",
      "text/plain": [
       "<Figure size 1224x504 with 2 Axes>"
      ]
     },
     "metadata": {
      "needs_background": "light"
     },
     "output_type": "display_data"
    }
   ],
   "source": [
    "\n",
    "plt.figure(figsize = (17,7))\n",
    "sns.heatmap(conf_mat, annot=True,fmt='d')\n",
    "plt.xlabel('Predicted_number')\n",
    "plt.ylabel('True_number')"
   ]
  },
  {
   "cell_type": "code",
   "execution_count": 53,
   "id": "b375908b-4878-44eb-8929-275cbef057d9",
   "metadata": {},
   "outputs": [],
   "source": [
    "test.to_csv('Final_test_csv_with_prediction.csv',index=False)"
   ]
  },
  {
   "cell_type": "code",
   "execution_count": null,
   "id": "2e3e7cd0-ccf3-4c3e-b40c-0705829a6b78",
   "metadata": {},
   "outputs": [],
   "source": []
  },
  {
   "cell_type": "code",
   "execution_count": null,
   "id": "ac48b475-d4f2-4b68-8465-7c1f5980981e",
   "metadata": {},
   "outputs": [],
   "source": []
  },
  {
   "cell_type": "code",
   "execution_count": null,
   "id": "abddde0a-9eb5-43f9-be76-9bbe433b00c5",
   "metadata": {},
   "outputs": [],
   "source": []
  },
  {
   "cell_type": "code",
   "execution_count": null,
   "id": "f87f495b-5206-4071-b51d-3ae391074176",
   "metadata": {},
   "outputs": [],
   "source": []
  },
  {
   "cell_type": "code",
   "execution_count": null,
   "id": "a30e3532-60d3-46e2-ac7a-57487e16d125",
   "metadata": {},
   "outputs": [],
   "source": []
  },
  {
   "cell_type": "code",
   "execution_count": null,
   "id": "0ba255d5-fd04-4388-aac8-780eee49905f",
   "metadata": {},
   "outputs": [],
   "source": []
  },
  {
   "cell_type": "code",
   "execution_count": null,
   "id": "1061d304-d9b4-4a31-92d5-fd00eb48504a",
   "metadata": {},
   "outputs": [],
   "source": []
  }
 ],
 "metadata": {
  "kernelspec": {
   "display_name": "Python 3 (ipykernel)",
   "language": "python",
   "name": "python3"
  },
  "language_info": {
   "codemirror_mode": {
    "name": "ipython",
    "version": 3
   },
   "file_extension": ".py",
   "mimetype": "text/x-python",
   "name": "python",
   "nbconvert_exporter": "python",
   "pygments_lexer": "ipython3",
   "version": "3.9.7"
  }
 },
 "nbformat": 4,
 "nbformat_minor": 5
}
